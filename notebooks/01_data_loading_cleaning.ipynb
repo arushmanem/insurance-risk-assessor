{
 "cells": [
  {
   "cell_type": "markdown",
   "metadata": {},
   "source": [
    "# Medical Insurance Cost Prediction - Step 1: Data Loading & Cleaning\n",
    "\n",
    "This notebook will:\n",
    "1. Load our insurance data\n",
    "2. Check for any problems in the data\n",
    "3. Clean the data for analysis"
   ]
  },
  {
   "cell_type": "code",
   "execution_count": 44,
   "metadata": {},
   "outputs": [],
   "source": [
    "# Import the tools we need\n",
    "import pandas as pd  # For working with data tables\n",
    "import numpy as np   # For math operations\n",
    "import matplotlib.pyplot as plt  # For basic graphs\n",
    "import seaborn as sns  # For nicer graphs\n",
    "\n",
    "# This makes our graphs show up in the notebook\n",
    "# %matplotlib inline\n",
    "#type: ignore\n",
    "%matplotlib inline "
   ]
  },
  {
   "cell_type": "code",
   "execution_count": 45,
   "metadata": {},
   "outputs": [],
   "source": [
    "import pandas as pd\n",
    "\n",
    "# Data Cleaning\n",
    "df = pd.read_csv('../data/Medical_Insurance_New.csv') # Load CSV File\n",
    "\n",
    "df = df.iloc[:-2374] # Keep the first 400 rows of data\n",
    "\n",
    "df = df.drop_duplicates() # Delete duplicates\n",
    "\n",
    "df = df.dropna() # Delete any rows with empty values\n",
    "\n",
    "df.to_csv('../data/insurance_cleaned.csv', index=False)\n"
   ]
  },
  {
   "cell_type": "code",
   "execution_count": 46,
   "metadata": {},
   "outputs": [
    {
     "name": "stdout",
     "output_type": "stream",
     "text": [
      "Dataset shape (rows, columns): (398, 6)\n",
      "\n",
      "Data types:\n",
      "age           int64\n",
      "sex          object\n",
      "bmi         float64\n",
      "children      int64\n",
      "smoker       object\n",
      "region       object\n",
      "dtype: object\n",
      "\n",
      "Missing values per column:\n",
      "age         0\n",
      "sex         0\n",
      "bmi         0\n",
      "children    0\n",
      "smoker      0\n",
      "region      0\n",
      "dtype: int64\n",
      "\n",
      "Basic statistics:\n",
      "              age         bmi    children\n",
      "count  398.000000  398.000000  398.000000\n",
      "mean    39.525126   30.571897    1.100503\n",
      "std     14.429124    5.687665    1.194003\n",
      "min     18.000000   15.960000    0.000000\n",
      "25%     27.000000   26.605000    0.000000\n",
      "50%     40.000000   30.350000    1.000000\n",
      "75%     52.750000   34.430000    2.000000\n",
      "max     64.000000   49.060000    5.000000\n"
     ]
    }
   ],
   "source": [
    "# === DATA QUALITY CHECKS ===\n",
    "# 1. Check shape (rows, columns)\n",
    "print(\"Dataset shape (rows, columns):\", insurance_df.shape)\n",
    "\n",
    "# 2. Check data types\n",
    "print(\"\\nData types:\")\n",
    "print(insurance_df.dtypes)\n",
    "\n",
    "# 3. Check missing values\n",
    "print(\"\\nMissing values per column:\")\n",
    "print(insurance_df.isnull().sum())\n",
    "\n",
    "# 4. Basic statistics (numeric columns only)\n",
    "print(\"\\nBasic statistics:\")\n",
    "print(insurance_df.describe())"
   ]
  }
 ],
 "metadata": {
  "kernelspec": {
   "display_name": "Python 3 (ipykernel)",
   "language": "python",
   "name": "python3"
  },
  "language_info": {
   "codemirror_mode": {
    "name": "ipython",
    "version": 3
   },
   "file_extension": ".py",
   "mimetype": "text/x-python",
   "name": "python",
   "nbconvert_exporter": "python",
   "pygments_lexer": "ipython3",
   "version": "3.13.3"
  }
 },
 "nbformat": 4,
 "nbformat_minor": 4
}
